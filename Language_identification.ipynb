{
 "cells": [
  {
   "cell_type": "code",
   "execution_count": 3,
   "id": "f56e319c",
   "metadata": {},
   "outputs": [],
   "source": [
    "import pandas as pd\n",
    "import numpy as np\n",
    "import re\n",
    "import seaborn as sns\n",
    "import tkinter as tk\n",
    "import matplotlib.pyplot as plt\n",
    "import warnings\n",
    "warnings.simplefilter(\"ignore\")"
   ]
  },
  {
   "cell_type": "code",
   "execution_count": 4,
   "id": "1d311eea",
   "metadata": {},
   "outputs": [
    {
     "name": "stdout",
     "output_type": "stream",
     "text": [
      "                                                Text Language\n",
      "0   Nature, in the broadest sense, is the natural...  English\n",
      "1  \"Nature\" can refer to the phenomena of the phy...  English\n",
      "2  The study of nature is a large, if not the onl...  English\n",
      "3  Although humans are part of nature, human acti...  English\n",
      "4  [1] The word nature is borrowed from the Old F...  English\n"
     ]
    }
   ],
   "source": [
    "data = pd.read_csv(\"Language Detection.csv\")\n",
    "print(data.head())"
   ]
  },
  {
   "cell_type": "code",
   "execution_count": 5,
   "id": "5642c481",
   "metadata": {},
   "outputs": [
    {
     "data": {
      "text/plain": [
       "Text        0\n",
       "Language    0\n",
       "dtype: int64"
      ]
     },
     "execution_count": 5,
     "metadata": {},
     "output_type": "execute_result"
    }
   ],
   "source": [
    "data.isnull().sum()"
   ]
  },
  {
   "cell_type": "code",
   "execution_count": 6,
   "id": "7b23a948",
   "metadata": {},
   "outputs": [
    {
     "name": "stdout",
     "output_type": "stream",
     "text": [
      "<class 'pandas.core.frame.DataFrame'>\n",
      "RangeIndex: 10337 entries, 0 to 10336\n",
      "Data columns (total 2 columns):\n",
      " #   Column    Non-Null Count  Dtype \n",
      "---  ------    --------------  ----- \n",
      " 0   Text      10337 non-null  object\n",
      " 1   Language  10337 non-null  object\n",
      "dtypes: object(2)\n",
      "memory usage: 161.6+ KB\n"
     ]
    }
   ],
   "source": [
    "data.info()"
   ]
  },
  {
   "cell_type": "code",
   "execution_count": 7,
   "id": "1ff4d559",
   "metadata": {},
   "outputs": [
    {
     "data": {
      "text/html": [
       "<div>\n",
       "<style scoped>\n",
       "    .dataframe tbody tr th:only-of-type {\n",
       "        vertical-align: middle;\n",
       "    }\n",
       "\n",
       "    .dataframe tbody tr th {\n",
       "        vertical-align: top;\n",
       "    }\n",
       "\n",
       "    .dataframe thead th {\n",
       "        text-align: right;\n",
       "    }\n",
       "</style>\n",
       "<table border=\"1\" class=\"dataframe\">\n",
       "  <thead>\n",
       "    <tr style=\"text-align: right;\">\n",
       "      <th></th>\n",
       "      <th>Text</th>\n",
       "      <th>Language</th>\n",
       "    </tr>\n",
       "  </thead>\n",
       "  <tbody>\n",
       "    <tr>\n",
       "      <th>count</th>\n",
       "      <td>10337</td>\n",
       "      <td>10337</td>\n",
       "    </tr>\n",
       "    <tr>\n",
       "      <th>unique</th>\n",
       "      <td>10267</td>\n",
       "      <td>17</td>\n",
       "    </tr>\n",
       "    <tr>\n",
       "      <th>top</th>\n",
       "      <td>Jag är ledsen.</td>\n",
       "      <td>English</td>\n",
       "    </tr>\n",
       "    <tr>\n",
       "      <th>freq</th>\n",
       "      <td>3</td>\n",
       "      <td>1385</td>\n",
       "    </tr>\n",
       "  </tbody>\n",
       "</table>\n",
       "</div>"
      ],
      "text/plain": [
       "                  Text Language\n",
       "count            10337    10337\n",
       "unique           10267       17\n",
       "top     Jag är ledsen.  English\n",
       "freq                 3     1385"
      ]
     },
     "execution_count": 7,
     "metadata": {},
     "output_type": "execute_result"
    }
   ],
   "source": [
    "data.describe()"
   ]
  },
  {
   "cell_type": "code",
   "execution_count": 8,
   "id": "b5fc4dd8",
   "metadata": {},
   "outputs": [
    {
     "data": {
      "text/plain": [
       "English       1385\n",
       "French        1014\n",
       "Spanish        819\n",
       "Portugeese     739\n",
       "Italian        698\n",
       "Russian        692\n",
       "Sweedish       676\n",
       "Malayalam      594\n",
       "Dutch          546\n",
       "Arabic         536\n",
       "Turkish        474\n",
       "German         470\n",
       "Tamil          469\n",
       "Danish         428\n",
       "Kannada        369\n",
       "Greek          365\n",
       "Hindi           63\n",
       "Name: Language, dtype: int64"
      ]
     },
     "execution_count": 8,
     "metadata": {},
     "output_type": "execute_result"
    }
   ],
   "source": [
    "data[\"Language\"].value_counts()"
   ]
  },
  {
   "cell_type": "code",
   "execution_count": 9,
   "id": "88d92d85",
   "metadata": {},
   "outputs": [],
   "source": [
    "X = data[\"Text\"]\n",
    "y = data[\"Language\"]"
   ]
  },
  {
   "cell_type": "code",
   "execution_count": 10,
   "id": "0e5fbd95",
   "metadata": {},
   "outputs": [],
   "source": [
    "# creating a list for appending the preprocessed text\n",
    "data_list = []\n",
    "# iterating through all the text\n",
    "for text in X:\n",
    "       # removing the symbols and numbers\n",
    "        text = re.sub(r'[!@#$(),n\"%^*?:;~`0-9]', ' ', text)\n",
    "        text = re.sub(r'[[]]', ' ', text)\n",
    "        # converting the text to lower case\n",
    "        text = text.lower()\n",
    "        # appending to data_list\n",
    "        data_list.append(text)"
   ]
  },
  {
   "cell_type": "code",
   "execution_count": 11,
   "id": "14a07fab",
   "metadata": {},
   "outputs": [
    {
     "data": {
      "text/plain": [
       "(10337, 34937)"
      ]
     },
     "execution_count": 11,
     "metadata": {},
     "output_type": "execute_result"
    }
   ],
   "source": [
    "#Bag of Words\n",
    "from sklearn.feature_extraction.text import CountVectorizer\n",
    "cv = CountVectorizer()\n",
    "X = cv.fit_transform(data_list).toarray()\n",
    "X.shape "
   ]
  },
  {
   "cell_type": "code",
   "execution_count": 12,
   "id": "3d95b6fc",
   "metadata": {},
   "outputs": [],
   "source": [
    "#Train test split\n",
    "\n",
    "from sklearn.model_selection import train_test_split\n",
    "x_train, x_test, y_train, y_test = train_test_split(X, y, test_size = 0.20)"
   ]
  },
  {
   "cell_type": "code",
   "execution_count": 13,
   "id": "1caddf0f",
   "metadata": {},
   "outputs": [
    {
     "data": {
      "text/plain": [
       "MultinomialNB()"
      ]
     },
     "execution_count": 13,
     "metadata": {},
     "output_type": "execute_result"
    }
   ],
   "source": [
    "#Model training\n",
    "\n",
    "from sklearn.naive_bayes import MultinomialNB\n",
    "model = MultinomialNB()\n",
    "model.fit(x_train, y_train)"
   ]
  },
  {
   "cell_type": "code",
   "execution_count": 14,
   "id": "654116cb",
   "metadata": {},
   "outputs": [
    {
     "data": {
      "text/plain": [
       "array(['English', 'Kannada', 'Dutch', ..., 'Portugeese', 'Malayalam',\n",
       "       'Danish'], dtype='<U10')"
      ]
     },
     "execution_count": 14,
     "metadata": {},
     "output_type": "execute_result"
    }
   ],
   "source": [
    "#Prediction\n",
    "y_pred = model.predict(x_test)\n",
    "y_pred"
   ]
  },
  {
   "cell_type": "code",
   "execution_count": 15,
   "id": "a6e83615",
   "metadata": {},
   "outputs": [
    {
     "name": "stdout",
     "output_type": "stream",
     "text": [
      "Accuracy is : 0.9738878143133463\n"
     ]
    }
   ],
   "source": [
    "#Model Evaluation\n",
    "\n",
    "from sklearn.metrics import accuracy_score\n",
    "accuracy = accuracy_score(y_test, y_pred)\n",
    "print(\"Accuracy is :\",accuracy)"
   ]
  },
  {
   "cell_type": "code",
   "execution_count": 16,
   "id": "f2e48608",
   "metadata": {},
   "outputs": [
    {
     "name": "stdout",
     "output_type": "stream",
     "text": [
      "Confusion Matrix: \n",
      "[[114   0   0   3   0   0   0   0   0   0   0   0   0   0   0   0   0]\n",
      " [  0  79   0   2   1   0   0   0   1   0   0   0   0   0   2   0   0]\n",
      " [  0   0 112   3   1   0   0   0   1   0   0   0   0   0   0   0   0]\n",
      " [  0   0   0 243   0   0   0   0   0   0   0   0   0   1   0   0   0]\n",
      " [  0   0   0   1 204   0   0   0   1   0   0   0   0   0   0   0   0]\n",
      " [  0   1   0   1   1 107   0   0   0   0   0   0   0   0   1   0   0]\n",
      " [  0   0   0   1   0   0  79   0   0   0   0   0   0   0   0   0   0]\n",
      " [  0   0   0   0   0   0   0  17   0   0   0   0   0   0   0   0   0]\n",
      " [  0   0   1   0   0   0   0   0 128   0   0   0   0   1   1   0   0]\n",
      " [  0   0   0   4   0   0   0   0   0  64   0   0   0   0   0   0   0]\n",
      " [  0   0   0   1   0   0   0   0   0   0 113   0   0   0   0   0   0]\n",
      " [  0   0   0   0   1   0   0   0   2   0   0 158   0   1   0   0   0]\n",
      " [  0   0   0   4   0   0   0   0   0   0   0   0 127   0   0   0   0]\n",
      " [  0   0   0   1   0   0   0   0   0   0   0   0   0 158   0   0   0]\n",
      " [  0   0   1   3   0   0   0   0   0   0   0   0   0   0 131   0   0]\n",
      " [  0   0   0   2   0   0   0   0   0   0   0   0   0   0   0  89   0]\n",
      " [  0   0   0   5   1   0   0   0   0   0   0   0   0   3   0   0  91]]\n"
     ]
    }
   ],
   "source": [
    "from sklearn.metrics import confusion_matrix\n",
    "\n",
    "confusionMatrix = confusion_matrix(y_test, y_pred)\n",
    "print(\"Confusion Matrix: \")\n",
    "print(confusionMatrix)"
   ]
  },
  {
   "cell_type": "code",
   "execution_count": 17,
   "id": "03122ad2",
   "metadata": {},
   "outputs": [
    {
     "name": "stdout",
     "output_type": "stream",
     "text": [
      "classificationReport: \n",
      "              precision    recall  f1-score   support\n",
      "\n",
      "      Arabic       1.00      0.97      0.99       117\n",
      "      Danish       0.99      0.93      0.96        85\n",
      "       Dutch       0.98      0.96      0.97       117\n",
      "     English       0.89      1.00      0.94       244\n",
      "      French       0.98      0.99      0.98       206\n",
      "      German       1.00      0.96      0.98       111\n",
      "       Greek       1.00      0.99      0.99        80\n",
      "       Hindi       1.00      1.00      1.00        17\n",
      "     Italian       0.96      0.98      0.97       131\n",
      "     Kannada       1.00      0.94      0.97        68\n",
      "   Malayalam       1.00      0.99      1.00       114\n",
      "  Portugeese       1.00      0.98      0.99       162\n",
      "     Russian       1.00      0.97      0.98       131\n",
      "     Spanish       0.96      0.99      0.98       159\n",
      "    Sweedish       0.97      0.97      0.97       135\n",
      "       Tamil       1.00      0.98      0.99        91\n",
      "     Turkish       1.00      0.91      0.95       100\n",
      "\n",
      "    accuracy                           0.97      2068\n",
      "   macro avg       0.98      0.97      0.98      2068\n",
      "weighted avg       0.98      0.97      0.97      2068\n",
      "\n"
     ]
    }
   ],
   "source": [
    "from sklearn.metrics import classification_report\n",
    "\n",
    "classificationReport = classification_report(y_test, y_pred)\n",
    "print(\"classificationReport: \")\n",
    "print(classificationReport)"
   ]
  },
  {
   "cell_type": "code",
   "execution_count": 18,
   "id": "ab964d34",
   "metadata": {},
   "outputs": [
    {
     "data": {
      "image/png": "[encoded data removed]",
      "text/plain": [
       "<Figure size 1080x720 with 2 Axes>"
      ]
     },
     "metadata": {
      "needs_background": "light"
     },
     "output_type": "display_data"
    }
   ],
   "source": [
    "#visualization\n",
    "\n",
    "plt.figure(figsize=(15,10))\n",
    "sns.heatmap(confusionMatrix, annot = True)\n",
    "plt.show()"
   ]
  },
  {
   "cell_type": "code",
   "execution_count": 19,
   "id": "b3399000",
   "metadata": {},
   "outputs": [
    {
     "data": {
      "image/png": "[encoded data removed]",
      "text/plain": [
       "<Figure size 432x288 with 2 Axes>"
      ]
     },
     "metadata": {
      "needs_background": "light"
     },
     "output_type": "display_data"
    }
   ],
   "source": [
    "from sklearn.metrics import plot_confusion_matrix\n",
    "\n",
    "graph = plot_confusion_matrix(model,x_train,y_train)\n",
    "plt.xticks(rotation = 90)\n",
    "plt.show()"
   ]
  },
  {
   "cell_type": "code",
   "execution_count": 20,
   "id": "ce380e77",
   "metadata": {},
   "outputs": [
    {
     "data": {
      "text/html": [
       "<div>\n",
       "<style scoped>\n",
       "    .dataframe tbody tr th:only-of-type {\n",
       "        vertical-align: middle;\n",
       "    }\n",
       "\n",
       "    .dataframe tbody tr th {\n",
       "        vertical-align: top;\n",
       "    }\n",
       "\n",
       "    .dataframe thead th {\n",
       "        text-align: right;\n",
       "    }\n",
       "</style>\n",
       "<table border=\"1\" class=\"dataframe\">\n",
       "  <thead>\n",
       "    <tr style=\"text-align: right;\">\n",
       "      <th></th>\n",
       "      <th>Text</th>\n",
       "      <th>Language</th>\n",
       "    </tr>\n",
       "  </thead>\n",
       "  <tbody>\n",
       "    <tr>\n",
       "      <th>0</th>\n",
       "      <td>Several sentences often make a paragraph</td>\n",
       "      <td>English</td>\n",
       "    </tr>\n",
       "    <tr>\n",
       "      <th>1</th>\n",
       "      <td>There are normally three to eight sentences in...</td>\n",
       "      <td>English</td>\n",
       "    </tr>\n",
       "    <tr>\n",
       "      <th>2</th>\n",
       "      <td>Does he play tennis</td>\n",
       "      <td>English</td>\n",
       "    </tr>\n",
       "    <tr>\n",
       "      <th>3</th>\n",
       "      <td>The train leaves every morning</td>\n",
       "      <td>English</td>\n",
       "    </tr>\n",
       "    <tr>\n",
       "      <th>4</th>\n",
       "      <td>Water freezes</td>\n",
       "      <td>English</td>\n",
       "    </tr>\n",
       "    <tr>\n",
       "      <th>...</th>\n",
       "      <td>...</td>\n",
       "      <td>...</td>\n",
       "    </tr>\n",
       "    <tr>\n",
       "      <th>199</th>\n",
       "      <td>???? ??? ????? ???</td>\n",
       "      <td>Hindi</td>\n",
       "    </tr>\n",
       "    <tr>\n",
       "      <th>200</th>\n",
       "      <td>???? ???? ?? ??? ???</td>\n",
       "      <td>Hindi</td>\n",
       "    </tr>\n",
       "    <tr>\n",
       "      <th>201</th>\n",
       "      <td>???? ??? ?? ?????</td>\n",
       "      <td>Hindi</td>\n",
       "    </tr>\n",
       "    <tr>\n",
       "      <th>202</th>\n",
       "      <td>?? ????? ???? ?? ???</td>\n",
       "      <td>Hindi</td>\n",
       "    </tr>\n",
       "    <tr>\n",
       "      <th>203</th>\n",
       "      <td>??? ???? ???? ????? ??</td>\n",
       "      <td>Hindi</td>\n",
       "    </tr>\n",
       "  </tbody>\n",
       "</table>\n",
       "<p>204 rows × 2 columns</p>\n",
       "</div>"
      ],
      "text/plain": [
       "                                                  Text Language\n",
       "0             Several sentences often make a paragraph  English\n",
       "1    There are normally three to eight sentences in...  English\n",
       "2                                  Does he play tennis  English\n",
       "3                       The train leaves every morning  English\n",
       "4                                        Water freezes  English\n",
       "..                                                 ...      ...\n",
       "199                                 ???? ??? ????? ???    Hindi\n",
       "200                               ???? ???? ?? ??? ???    Hindi\n",
       "201                                  ???? ??? ?? ?????    Hindi\n",
       "202                               ?? ????? ???? ?? ???    Hindi\n",
       "203                             ??? ???? ???? ????? ??    Hindi\n",
       "\n",
       "[204 rows x 2 columns]"
      ]
     },
     "execution_count": 20,
     "metadata": {},
     "output_type": "execute_result"
    }
   ],
   "source": [
    "#testing\n",
    "test_data = pd.read_csv(\"test_data_language.csv\")\n",
    "test_data"
   ]
  },
  {
   "cell_type": "code",
   "execution_count": 21,
   "id": "7e3b30d8",
   "metadata": {},
   "outputs": [
    {
     "data": {
      "text/plain": [
       "English       12\n",
       "Arabic        12\n",
       "Greek         12\n",
       "Kannada       12\n",
       "Danish        12\n",
       "Tamil         12\n",
       "German        12\n",
       "Turkish       12\n",
       "Dutch         12\n",
       "Malayalam     12\n",
       "Sweedish      12\n",
       "Russian       12\n",
       "Italian       12\n",
       "Portugeese    12\n",
       "Spanish       12\n",
       "French        12\n",
       "Hindi         12\n",
       "Name: Language, dtype: int64"
      ]
     },
     "execution_count": 21,
     "metadata": {},
     "output_type": "execute_result"
    }
   ],
   "source": [
    "test_data[\"Language\"].value_counts()"
   ]
  },
  {
   "cell_type": "code",
   "execution_count": 22,
   "id": "ba2f7872",
   "metadata": {},
   "outputs": [],
   "source": [
    "new_test_x = test_data['Text']\n",
    "new_test_y = test_data['Language']"
   ]
  },
  {
   "cell_type": "code",
   "execution_count": 23,
   "id": "985fa7b3",
   "metadata": {},
   "outputs": [
    {
     "data": {
      "text/plain": [
       "array(['English', 'English', 'English', 'English', 'English', 'English',\n",
       "       'English', 'English', 'English', 'English', 'English', 'English',\n",
       "       'English', 'English', 'English', 'English', 'English', 'English',\n",
       "       'English', 'English', 'English', 'English', 'English', 'English',\n",
       "       'French', 'French', 'French', 'French', 'French', 'French',\n",
       "       'French', 'French', 'French', 'French', 'French', 'French',\n",
       "       'Spanish', 'Spanish', 'Spanish', 'Spanish', 'Spanish', 'Spanish',\n",
       "       'Spanish', 'English', 'Spanish', 'Portugeese', 'Spanish',\n",
       "       'Spanish', 'Portugeese', 'Portugeese', 'Portugeese', 'Portugeese',\n",
       "       'Portugeese', 'Portugeese', 'Portugeese', 'Portugeese',\n",
       "       'Portugeese', 'Portugeese', 'Portugeese', 'Portugeese', 'Italian',\n",
       "       'Italian', 'Italian', 'Italian', 'Italian', 'Italian', 'Italian',\n",
       "       'Italian', 'Italian', 'Italian', 'Italian', 'Italian', 'English',\n",
       "       'English', 'English', 'English', 'English', 'English', 'English',\n",
       "       'English', 'English', 'English', 'English', 'English', 'Sweedish',\n",
       "       'Sweedish', 'English', 'Sweedish', 'Sweedish', 'Sweedish',\n",
       "       'Sweedish', 'Sweedish', 'French', 'Sweedish', 'Sweedish',\n",
       "       'Sweedish', 'Dutch', 'Dutch', 'English', 'Dutch', 'Dutch', 'Dutch',\n",
       "       'Dutch', 'Dutch', 'Dutch', 'Dutch', 'Dutch', 'Dutch', 'English',\n",
       "       'English', 'English', 'English', 'English', 'English', 'English',\n",
       "       'English', 'English', 'English', 'English', 'English', 'Turkish',\n",
       "       'English', 'Turkish', 'Turkish', 'Turkish', 'Turkish', 'English',\n",
       "       'Turkish', 'Turkish', 'English', 'English', 'Turkish', 'German',\n",
       "       'German', 'German', 'Danish', 'Danish', 'Danish', 'German',\n",
       "       'German', 'German', 'German', 'German', 'German', 'English',\n",
       "       'English', 'English', 'English', 'English', 'English', 'English',\n",
       "       'English', 'English', 'English', 'English', 'English', 'Danish',\n",
       "       'Danish', 'Danish', 'Danish', 'Danish', 'Danish', 'Danish',\n",
       "       'English', 'Danish', 'English', 'Danish', 'Danish', 'English',\n",
       "       'English', 'English', 'English', 'English', 'English', 'English',\n",
       "       'English', 'English', 'English', 'English', 'English', 'English',\n",
       "       'English', 'English', 'English', 'English', 'English', 'English',\n",
       "       'English', 'English', 'English', 'English', 'English', 'English',\n",
       "       'English', 'English', 'English', 'English', 'English', 'English',\n",
       "       'English', 'English', 'English', 'English', 'English'],\n",
       "      dtype='<U10')"
      ]
     },
     "execution_count": 23,
     "metadata": {},
     "output_type": "execute_result"
    }
   ],
   "source": [
    "data = cv.transform(new_test_x).toarray()\n",
    "output = model.predict(data)\n",
    "output"
   ]
  },
  {
   "cell_type": "code",
   "execution_count": 24,
   "id": "e1ad6af4",
   "metadata": {},
   "outputs": [
    {
     "name": "stdout",
     "output_type": "stream",
     "text": [
      "Accuracy is : 0.5196078431372549\n"
     ]
    }
   ],
   "source": [
    "#Model Evaluation\n",
    "\n",
    "from sklearn.metrics import accuracy_score\n",
    "ac = accuracy_score(new_test_y, output)\n",
    "\n",
    "print(\"Accuracy is :\",ac)"
   ]
  },
  {
   "cell_type": "code",
   "execution_count": 25,
   "id": "a9375a00",
   "metadata": {},
   "outputs": [
    {
     "name": "stdout",
     "output_type": "stream",
     "text": [
      "Confusion Matrix: \n",
      "[[ 0  0  0 12  0  0  0  0  0  0  0  0  0  0  0  0  0]\n",
      " [ 0 10  0  2  0  0  0  0  0  0  0  0  0  0  0  0  0]\n",
      " [ 0  0 11  1  0  0  0  0  0  0  0  0  0  0  0  0  0]\n",
      " [ 0  0  0 12  0  0  0  0  0  0  0  0  0  0  0  0  0]\n",
      " [ 0  0  0  0 12  0  0  0  0  0  0  0  0  0  0  0  0]\n",
      " [ 0  3  0  0  0  9  0  0  0  0  0  0  0  0  0  0  0]\n",
      " [ 0  0  0 12  0  0  0  0  0  0  0  0  0  0  0  0  0]\n",
      " [ 0  0  0 12  0  0  0  0  0  0  0  0  0  0  0  0  0]\n",
      " [ 0  0  0  0  0  0  0  0 12  0  0  0  0  0  0  0  0]\n",
      " [ 0  0  0 12  0  0  0  0  0  0  0  0  0  0  0  0  0]\n",
      " [ 0  0  0 12  0  0  0  0  0  0  0  0  0  0  0  0  0]\n",
      " [ 0  0  0  0  0  0  0  0  0  0  0 12  0  0  0  0  0]\n",
      " [ 0  0  0 12  0  0  0  0  0  0  0  0  0  0  0  0  0]\n",
      " [ 0  0  0  1  0  0  0  0  0  0  0  1  0 10  0  0  0]\n",
      " [ 0  0  0  1  1  0  0  0  0  0  0  0  0  0 10  0  0]\n",
      " [ 0  0  0 12  0  0  0  0  0  0  0  0  0  0  0  0  0]\n",
      " [ 0  0  0  4  0  0  0  0  0  0  0  0  0  0  0  0  8]]\n"
     ]
    }
   ],
   "source": [
    "from sklearn.metrics import confusion_matrix\n",
    "\n",
    "cm = confusion_matrix(new_test_y, output)\n",
    "print(\"Confusion Matrix: \")\n",
    "print(cm)"
   ]
  },
  {
   "cell_type": "code",
   "execution_count": 26,
   "id": "01101d57",
   "metadata": {},
   "outputs": [
    {
     "name": "stdout",
     "output_type": "stream",
     "text": [
      "classificationReport: \n",
      "              precision    recall  f1-score   support\n",
      "\n",
      "      Arabic       0.00      0.00      0.00        12\n",
      "      Danish       0.77      0.83      0.80        12\n",
      "       Dutch       1.00      0.92      0.96        12\n",
      "     English       0.11      1.00      0.21        12\n",
      "      French       0.92      1.00      0.96        12\n",
      "      German       1.00      0.75      0.86        12\n",
      "       Greek       0.00      0.00      0.00        12\n",
      "       Hindi       0.00      0.00      0.00        12\n",
      "     Italian       1.00      1.00      1.00        12\n",
      "     Kannada       0.00      0.00      0.00        12\n",
      "   Malayalam       0.00      0.00      0.00        12\n",
      "  Portugeese       0.92      1.00      0.96        12\n",
      "     Russian       0.00      0.00      0.00        12\n",
      "     Spanish       1.00      0.83      0.91        12\n",
      "    Sweedish       1.00      0.83      0.91        12\n",
      "       Tamil       0.00      0.00      0.00        12\n",
      "     Turkish       1.00      0.67      0.80        12\n",
      "\n",
      "    accuracy                           0.52       204\n",
      "   macro avg       0.51      0.52      0.49       204\n",
      "weighted avg       0.51      0.52      0.49       204\n",
      "\n"
     ]
    }
   ],
   "source": [
    "from sklearn.metrics import classification_report\n",
    "\n",
    "cr = classification_report(new_test_y, output)\n",
    "print(\"classificationReport: \")\n",
    "print(cr)"
   ]
  },
  {
   "cell_type": "code",
   "execution_count": 27,
   "id": "4468388b",
   "metadata": {},
   "outputs": [
    {
     "data": {
      "image/png": "[encoded data removed]",
      "text/plain": [
       "<Figure size 1080x720 with 2 Axes>"
      ]
     },
     "metadata": {
      "needs_background": "light"
     },
     "output_type": "display_data"
    }
   ],
   "source": [
    "#visualization\n",
    "\n",
    "plt.figure(figsize=(15,10))\n",
    "sns.heatmap(cm, annot = True)\n",
    "plt.show()"
   ]
  },
  {
   "cell_type": "code",
   "execution_count": 28,
   "id": "99e0fdff",
   "metadata": {},
   "outputs": [
    {
     "data": {
      "image/png": "[encoded data removed]",
      "text/plain": [
       "<Figure size 432x288 with 2 Axes>"
      ]
     },
     "metadata": {
      "needs_background": "light"
     },
     "output_type": "display_data"
    }
   ],
   "source": [
    "from sklearn.metrics import plot_confusion_matrix\n",
    "\n",
    "graph = plot_confusion_matrix(model,data,new_test_y)\n",
    "plt.xticks(rotation = 90)\n",
    "plt.show()"
   ]
  },
  {
   "cell_type": "code",
   "execution_count": 29,
   "id": "8429ebf7",
   "metadata": {},
   "outputs": [],
   "source": [
    "#GUI\n",
    "\n",
    "root = tk.Tk()\n",
    "\n",
    "canvas = tk.Canvas(root, width = 700, height = 500)\n",
    "canvas.pack()\n",
    "\n",
    "Accuracy_result = ('Accuracy: ', accuracy)\n",
    "label_Accuracy = tk.Label(root, text=Accuracy_result, justify = 'left')\n",
    "canvas.create_window(260, 220, window=label_Accuracy)\n",
    "label_Accuracy.config(font =(\"Times\", 14))\n",
    "\n",
    "label = tk.Label(root, text='Enter the text')\n",
    "canvas.create_window(100, 100, window=label)\n",
    "label.config(font=(\"Times\", 14))\n",
    "\n",
    "entry = tk.Entry (root)\n",
    "canvas.create_window(270, 100, window=entry)\n",
    "entry.config(font=(\"Times\", 18))\n",
    "\n",
    "def values():\n",
    "    global text\n",
    "    text = entry.get()\n",
    "    x = cv.transform([text]).toarray()\n",
    "    lang = model.predict(x)\n",
    "    \n",
    "    Prediction_result = ('Identify: ', lang)\n",
    "    label_Prediction = tk.Label(root, text=Prediction_result, bg = 'red')\n",
    "    canvas.create_window(260, 280, window=label_Prediction)\n",
    "    \n",
    "button = tk.Button (root, text= 'identify', command = values, bg = 'orange')\n",
    "canvas.create_window(270, 150, window = button)\n",
    "button.config(font = (\"Times\", 18))\n",
    "\n",
    "lang = [\"French\",\"Greek\",\"Dutch\",\"Spanish\",\"Japanese\",\"Russian\",\"Danish\",\"Italian\",\"Turkish\",\"Swedish\",\"Arabic\",\"Malayalam\",\"Hindi\",\"Tamil\",\"Telugu\"]\n",
    "\n",
    "var = tk.Variable(value = lang)\n",
    "listbox = tk.Listbox(root, listvariable=var,height=4,selectmode=tk.EXTENDED)\n",
    "listbox.pack(expand=True, fill=tk.BOTH)\n",
    "\n",
    "root.mainloop()"
   ]
  },
  {
   "cell_type": "code",
   "execution_count": null,
   "id": "30f0be3f",
   "metadata": {},
   "outputs": [],
   "source": []
  },
  {
   "cell_type": "code",
   "execution_count": null,
   "id": "a8b0554b",
   "metadata": {},
   "outputs": [],
   "source": []
  },
  {
   "cell_type": "code",
   "execution_count": null,
   "id": "81a258c6",
   "metadata": {},
   "outputs": [],
   "source": []
  },
  {
   "cell_type": "code",
   "execution_count": null,
   "id": "5e07b495",
   "metadata": {},
   "outputs": [],
   "source": []
  },
  {
   "cell_type": "code",
   "execution_count": null,
   "id": "4bb744fc",
   "metadata": {},
   "outputs": [],
   "source": []
  }
 ],
 "metadata": {
  "kernelspec": {
   "display_name": "Python 3 (ipykernel)",
   "language": "python",
   "name": "python3"
  },
  "language_info": {
   "codemirror_mode": {
    "name": "ipython",
    "version": 3
   },
   "file_extension": ".py",
   "mimetype": "text/x-python",
   "name": "python",
   "nbconvert_exporter": "python",
   "pygments_lexer": "ipython3",
   "version": "3.9.12"
  }
 },
 "nbformat": 4,
 "nbformat_minor": 5
}
